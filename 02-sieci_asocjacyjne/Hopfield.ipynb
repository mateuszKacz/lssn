{
 "cells": [
  {
   "cell_type": "markdown",
   "metadata": {},
   "source": [
    "# Sieć Hopfielda\n",
    "https://en.wikipedia.org/wiki/Hopfield_network"
   ]
  },
  {
   "cell_type": "code",
   "execution_count": 1,
   "metadata": {},
   "outputs": [
    {
     "name": "stdout",
     "output_type": "stream",
     "text": [
      "Populating the interactive namespace from numpy and matplotlib\n"
     ]
    }
   ],
   "source": [
    "%pylab inline"
   ]
  },
  {
   "cell_type": "code",
   "execution_count": 2,
   "metadata": {},
   "outputs": [],
   "source": [
    "N=100 # rozmiar sieci\n",
    "X=zeros(N) # stany neuronów\n",
    "W=zeros((N,N)) # wagi połączeń"
   ]
  },
  {
   "cell_type": "markdown",
   "metadata": {},
   "source": [
    "## Definiujemy wzorce"
   ]
  },
  {
   "cell_type": "code",
   "execution_count": 3,
   "metadata": {},
   "outputs": [],
   "source": [
    "# przykładowe wzorce graficzne\n",
    "pat=zeros((4,100))\n",
    "pat[0] = array([1,1,0,0,0,0,0,0,1,1,\n",
    "      1,1,1,0,0,0,0,1,1,1,\n",
    "      0,1,1,1,0,0,1,1,1,0,\n",
    "      0,0,1,1,1,1,1,1,0,0,\n",
    "      0,0,0,1,1,1,0,0,0,0,\n",
    "      0,0,0,0,1,1,1,0,0,0,\n",
    "      0,0,1,1,1,1,1,1,0,0,\n",
    "      0,1,1,1,0,0,1,1,1,0,\n",
    "      1,1,1,0,0,0,0,1,1,1,\n",
    "      1,1,0,0,0,0,0,0,1,1])\n",
    "pat[1] = array([0,0,0,0,0,1,0,0,0,0,\n",
    "      0,0,0,0,1,1,1,0,0,0,\n",
    "      0,0,0,0,1,1,1,0,0,0,\n",
    "      0,0,0,1,1,1,1,1,0,0,\n",
    "      0,0,0,1,1,0,1,1,0,0,\n",
    "      0,0,1,1,1,0,1,1,1,0,\n",
    "      0,0,1,1,0,0,0,1,1,0,\n",
    "      0,1,1,1,0,0,0,1,1,1,\n",
    "      0,1,1,1,1,1,1,1,1,1,\n",
    "      0,1,1,1,1,1,1,1,1,1])\n",
    "pat[2] = array([0,0,1,1,1,0,0,0,1,1,\n",
    "      0,1,1,1,1,1,1,1,1,1,\n",
    "      1,1,1,0,1,1,1,1,0,0,\n",
    "      1,1,0,0,0,1,1,0,0,0,\n",
    "      0,0,0,0,0,0,0,0,0,0,\n",
    "      0,0,0,1,1,0,0,0,1,1,\n",
    "      0,0,1,1,1,1,0,1,1,1,\n",
    "      1,1,1,1,1,1,1,1,1,0,\n",
    "      1,1,0,0,0,1,1,1,0,0,\n",
    "      0,0,0,0,0,0,0,0,0,0])\n",
    "pat[3] = array([0,0,1,0,0,0,0,1,0,0,\n",
    "      0,0,1,1,0,0,1,1,0,0,\n",
    "      0,0,1,1,1,1,1,1,0,0,\n",
    "      0,0,1,1,1,1,1,1,0,0,\n",
    "      0,0,1,1,1,1,1,1,0,0,\n",
    "      0,1,1,1,1,1,1,1,1,0,\n",
    "      1,1,1,1,1,1,1,1,1,1,\n",
    "      0,0,0,1,1,1,1,0,0,0,\n",
    "      0,0,0,0,1,1,0,0,0,0,\n",
    "      0,0,0,0,0,1,0,0,0,0])\n",
    "\n",
    "# przeskalowanie do {-1, 1}\n",
    "pat=2*pat-1"
   ]
  },
  {
   "cell_type": "code",
   "execution_count": 4,
   "metadata": {},
   "outputs": [
    {
     "data": {
      "image/png": "[encoded data removed]",
      "text/plain": [
       "<Figure size 432x288 with 4 Axes>"
      ]
     },
     "metadata": {
      "needs_background": "light"
     },
     "output_type": "display_data"
    }
   ],
   "source": [
    "i=1\n",
    "for p in pat:\n",
    "    subplot(2,2,i)\n",
    "    i+=1\n",
    "    imshow(reshape(p,(10,10)))"
   ]
  },
  {
   "cell_type": "markdown",
   "metadata": {},
   "source": [
    "## Trenujemy sieć za pomocą reguły Hebba\n",
    "https://en.wikipedia.org/wiki/Hebbian_theory"
   ]
  },
  {
   "cell_type": "code",
   "execution_count": 5,
   "metadata": {},
   "outputs": [],
   "source": [
    "def train():\n",
    "    global W, pat\n",
    "    W=pat.T @ pat / pat.shape[0]\n",
    "    W-=eye(N,N)"
   ]
  },
  {
   "cell_type": "code",
   "execution_count": 6,
   "metadata": {},
   "outputs": [
    {
     "data": {
      "text/plain": [
       "\u001b[0;31mDocstring:\u001b[0m\n",
       "dot(a, b, out=None)\n",
       "\n",
       "Dot product of two arrays. Specifically,\n",
       "\n",
       "- If both `a` and `b` are 1-D arrays, it is inner product of vectors\n",
       "  (without complex conjugation).\n",
       "\n",
       "- If both `a` and `b` are 2-D arrays, it is matrix multiplication,\n",
       "  but using :func:`matmul` or ``a @ b`` is preferred.\n",
       "\n",
       "- If either `a` or `b` is 0-D (scalar), it is equivalent to :func:`multiply`\n",
       "  and using ``numpy.multiply(a, b)`` or ``a * b`` is preferred.\n",
       "\n",
       "- If `a` is an N-D array and `b` is a 1-D array, it is a sum product over\n",
       "  the last axis of `a` and `b`.\n",
       "\n",
       "- If `a` is an N-D array and `b` is an M-D array (where ``M>=2``), it is a\n",
       "  sum product over the last axis of `a` and the second-to-last axis of `b`::\n",
       "\n",
       "    dot(a, b)[i,j,k,m] = sum(a[i,j,:] * b[k,:,m])\n",
       "\n",
       "Parameters\n",
       "----------\n",
       "a : array_like\n",
       "    First argument.\n",
       "b : array_like\n",
       "    Second argument.\n",
       "out : ndarray, optional\n",
       "    Output argument. This must have the exact kind that would be returned\n",
       "    if it was not used. In particular, it must have the right type, must be\n",
       "    C-contiguous, and its dtype must be the dtype that would be returned\n",
       "    for `dot(a,b)`. This is a performance feature. Therefore, if these\n",
       "    conditions are not met, an exception is raised, instead of attempting\n",
       "    to be flexible.\n",
       "\n",
       "Returns\n",
       "-------\n",
       "output : ndarray\n",
       "    Returns the dot product of `a` and `b`.  If `a` and `b` are both\n",
       "    scalars or both 1-D arrays then a scalar is returned; otherwise\n",
       "    an array is returned.\n",
       "    If `out` is given, then it is returned.\n",
       "\n",
       "Raises\n",
       "------\n",
       "ValueError\n",
       "    If the last dimension of `a` is not the same size as\n",
       "    the second-to-last dimension of `b`.\n",
       "\n",
       "See Also\n",
       "--------\n",
       "vdot : Complex-conjugating dot product.\n",
       "tensordot : Sum products over arbitrary axes.\n",
       "einsum : Einstein summation convention.\n",
       "matmul : '@' operator as method with out parameter.\n",
       "\n",
       "Examples\n",
       "--------\n",
       ">>> np.dot(3, 4)\n",
       "12\n",
       "\n",
       "Neither argument is complex-conjugated:\n",
       "\n",
       ">>> np.dot([2j, 3j], [2j, 3j])\n",
       "(-13+0j)\n",
       "\n",
       "For 2-D arrays it is the matrix product:\n",
       "\n",
       ">>> a = [[1, 0], [0, 1]]\n",
       ">>> b = [[4, 1], [2, 2]]\n",
       ">>> np.dot(a, b)\n",
       "array([[4, 1],\n",
       "       [2, 2]])\n",
       "\n",
       ">>> a = np.arange(3*4*5*6).reshape((3,4,5,6))\n",
       ">>> b = np.arange(3*4*5*6)[::-1].reshape((5,4,6,3))\n",
       ">>> np.dot(a, b)[2,3,2,1,2,2]\n",
       "499128\n",
       ">>> sum(a[2,3,2,:] * b[1,2,:,2])\n",
       "499128\n",
       "\u001b[0;31mType:\u001b[0m      function\n"
      ]
     },
     "metadata": {},
     "output_type": "display_data"
    }
   ],
   "source": [
    "# co to @?\n",
    "?dot"
   ]
  },
  {
   "cell_type": "code",
   "execution_count": 7,
   "metadata": {},
   "outputs": [],
   "source": [
    "# %%timeit\n",
    "train()"
   ]
  },
  {
   "cell_type": "code",
   "execution_count": 8,
   "metadata": {},
   "outputs": [
    {
     "data": {
      "text/plain": [
       "array([[ 0. ,  1. , -0.5, ...,  0. ,  0.5,  0.5],\n",
       "       [ 1. ,  0. , -0.5, ...,  0. ,  0.5,  0.5],\n",
       "       [-0.5, -0.5,  0. , ..., -0.5, -1. , -1. ],\n",
       "       ...,\n",
       "       [ 0. ,  0. , -0.5, ...,  0. ,  0.5,  0.5],\n",
       "       [ 0.5,  0.5, -1. , ...,  0.5,  0. ,  1. ],\n",
       "       [ 0.5,  0.5, -1. , ...,  0.5,  1. ,  0. ]])"
      ]
     },
     "execution_count": 8,
     "metadata": {},
     "output_type": "execute_result"
    }
   ],
   "source": [
    "W"
   ]
  },
  {
   "cell_type": "markdown",
   "metadata": {},
   "source": [
    "## Testujemy sieć zaburzonymi wzorcami"
   ]
  },
  {
   "cell_type": "code",
   "execution_count": 9,
   "metadata": {},
   "outputs": [],
   "source": [
    "# wzorce zaburzone\n",
    "pat_test=pat.copy()\n",
    "pat_test[0][int(N/2):].fill(1)\n",
    "pat_test[1]*=choice([-1,1],100,p=[0.25,0.75]) # 1/4 odwrócona\n",
    "pat_test[2]*=choice([-1,1],100) # połowa \n",
    "pat_test[3]*=choice([-1,1],100,p=[0.75,0.25]) # 3/4 odwrócone"
   ]
  },
  {
   "cell_type": "code",
   "execution_count": 10,
   "metadata": {},
   "outputs": [
    {
     "data": {
      "image/png": "[encoded data removed]",
      "text/plain": [
       "<Figure size 432x288 with 4 Axes>"
      ]
     },
     "metadata": {
      "needs_background": "light"
     },
     "output_type": "display_data"
    }
   ],
   "source": [
    "i=1\n",
    "for p in pat_test:\n",
    "    subplot(2,2,i)\n",
    "    i+=1\n",
    "    imshow(reshape(p,(10,10)))"
   ]
  },
  {
   "cell_type": "code",
   "execution_count": 11,
   "metadata": {},
   "outputs": [
    {
     "data": {
      "text/plain": [
       "<matplotlib.image.AxesImage at 0x7fbe5efbd110>"
      ]
     },
     "execution_count": 11,
     "metadata": {},
     "output_type": "execute_result"
    },
    {
     "data": {
      "image/png": "[encoded data removed]",
      "text/plain": [
       "<Figure size 432x288 with 1 Axes>"
      ]
     },
     "metadata": {
      "needs_background": "light"
     },
     "output_type": "display_data"
    }
   ],
   "source": [
    "X=pat_test[0]\n",
    "imshow(reshape(X,(10,10)))"
   ]
  },
  {
   "cell_type": "markdown",
   "metadata": {},
   "source": [
    "By wykonać wielokrotnie poniższą komórkę, naciskaj CTRL+ENTER. Uzyskasz kolejne iteracje dynamiki.\n",
    "\n",
    "Jak można to zautomatyzować (tzn. określić, czy sieć zbiegła do punktu stałego)?"
   ]
  },
  {
   "cell_type": "code",
   "execution_count": 12,
   "metadata": {},
   "outputs": [
    {
     "data": {
      "image/png": "[encoded data removed]",
      "text/plain": [
       "<Figure size 432x288 with 1 Axes>"
      ]
     },
     "metadata": {
      "needs_background": "light"
     },
     "output_type": "display_data"
    }
   ],
   "source": [
    "Xn=zeros(N)\n",
    "\n",
    "for i in range(N):\n",
    "    for j in range(N):\n",
    "        Xn[i]+=W[i,j]*X[j]\n",
    "        \n",
    "# czy można zoptymalizować powyższą pętlę?\n",
    "\n",
    "X=sign(Xn)\n",
    "imshow(reshape(X,(10,10)));"
   ]
  },
  {
   "cell_type": "markdown",
   "metadata": {},
   "source": [
    "## Zdefiniuj funkcję przekrycia (overlap)\n",
    "Porównaj końcowy stan sieci z zapamiętanymi wzorcami by określić, który z nich został rozpoznany"
   ]
  },
  {
   "cell_type": "code",
   "execution_count": null,
   "metadata": {},
   "outputs": [],
   "source": []
  }
 ],
 "metadata": {
  "kernelspec": {
   "display_name": "Python 3",
   "language": "python",
   "name": "python3"
  },
  "language_info": {
   "codemirror_mode": {
    "name": "ipython",
    "version": 3
   },
   "file_extension": ".py",
   "mimetype": "text/x-python",
   "name": "python",
   "nbconvert_exporter": "python",
   "pygments_lexer": "ipython3",
   "version": "3.7.4"
  }
 },
 "nbformat": 4,
 "nbformat_minor": 4
}
