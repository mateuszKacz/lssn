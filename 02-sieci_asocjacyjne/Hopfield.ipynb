{
 "cells": [
  {
   "cell_type": "markdown",
   "metadata": {},
   "source": [
    "# Sieć Hopfielda\n",
    "https://en.wikipedia.org/wiki/Hopfield_network"
   ]
  },
  {
   "cell_type": "code",
   "execution_count": 1,
   "metadata": {},
   "outputs": [
    {
     "name": "stdout",
     "output_type": "stream",
     "text": [
      "Populating the interactive namespace from numpy and matplotlib\n"
     ]
    }
   ],
   "source": [
    "%pylab inline"
   ]
  },
  {
   "cell_type": "code",
   "execution_count": 2,
   "metadata": {},
   "outputs": [],
   "source": [
    "N=100 # rozmiar sieci\n",
    "X=zeros(N) # stany neuronów\n",
    "W=zeros((N,N)) # wagi połączeń"
   ]
  },
  {
   "cell_type": "markdown",
   "metadata": {},
   "source": [
    "## Definiujemy wzorce"
   ]
  },
  {
   "cell_type": "code",
   "execution_count": 3,
   "metadata": {},
   "outputs": [],
   "source": [
    "# przykładowe wzorce graficzne\n",
    "pat=zeros((4,100))\n",
    "pat[0] = array([1,1,0,0,0,0,0,0,1,1,\n",
    "      1,1,1,0,0,0,0,1,1,1,\n",
    "      0,1,1,1,0,0,1,1,1,0,\n",
    "      0,0,1,1,1,1,1,1,0,0,\n",
    "      0,0,0,1,1,1,0,0,0,0,\n",
    "      0,0,0,0,1,1,1,0,0,0,\n",
    "      0,0,1,1,1,1,1,1,0,0,\n",
    "      0,1,1,1,0,0,1,1,1,0,\n",
    "      1,1,1,0,0,0,0,1,1,1,\n",
    "      1,1,0,0,0,0,0,0,1,1])\n",
    "pat[1] = array([0,0,0,0,0,1,0,0,0,0,\n",
    "      0,0,0,0,1,1,1,0,0,0,\n",
    "      0,0,0,0,1,1,1,0,0,0,\n",
    "      0,0,0,1,1,1,1,1,0,0,\n",
    "      0,0,0,1,1,0,1,1,0,0,\n",
    "      0,0,1,1,1,0,1,1,1,0,\n",
    "      0,0,1,1,0,0,0,1,1,0,\n",
    "      0,1,1,1,0,0,0,1,1,1,\n",
    "      0,1,1,1,1,1,1,1,1,1,\n",
    "      0,1,1,1,1,1,1,1,1,1])\n",
    "pat[2] = array([0,0,1,1,1,0,0,0,1,1,\n",
    "      0,1,1,1,1,1,1,1,1,1,\n",
    "      1,1,1,0,1,1,1,1,0,0,\n",
    "      1,1,0,0,0,1,1,0,0,0,\n",
    "      0,0,0,0,0,0,0,0,0,0,\n",
    "      0,0,0,1,1,0,0,0,1,1,\n",
    "      0,0,1,1,1,1,0,1,1,1,\n",
    "      1,1,1,1,1,1,1,1,1,0,\n",
    "      1,1,0,0,0,1,1,1,0,0,\n",
    "      0,0,0,0,0,0,0,0,0,0])\n",
    "pat[3] = array([0,0,1,0,0,0,0,1,0,0,\n",
    "      0,0,1,1,0,0,1,1,0,0,\n",
    "      0,0,1,1,1,1,1,1,0,0,\n",
    "      0,0,1,1,1,1,1,1,0,0,\n",
    "      0,0,1,1,1,1,1,1,0,0,\n",
    "      0,1,1,1,1,1,1,1,1,0,\n",
    "      1,1,1,1,1,1,1,1,1,1,\n",
    "      0,0,0,1,1,1,1,0,0,0,\n",
    "      0,0,0,0,1,1,0,0,0,0,\n",
    "      0,0,0,0,0,1,0,0,0,0])\n",
    "\n",
    "# przeskalowanie do {-1, 1}\n",
    "pat=2*pat-1"
   ]
  },
  {
   "cell_type": "code",
   "execution_count": 4,
   "metadata": {},
   "outputs": [
    {
     "data": {
      "image/png": "[encoded data removed]",
      "text/plain": [
       "<Figure size 432x288 with 4 Axes>"
      ]
     },
     "metadata": {
      "needs_background": "light"
     },
     "output_type": "display_data"
    }
   ],
   "source": [
    "i=1\n",
    "for p in pat:\n",
    "    subplot(2,2,i)\n",
    "    i+=1\n",
    "    imshow(reshape(p,(10,10)))"
   ]
  },
  {
   "cell_type": "markdown",
   "metadata": {},
   "source": [
    "## Trenujemy sieć za pomocą reguły Hebba\n",
    "https://en.wikipedia.org/wiki/Hebbian_theory"
   ]
  },
  {
   "cell_type": "code",
   "execution_count": null,
   "metadata": {},
   "outputs": [],
   "source": [
    "def train():\n",
    "    W=pat.T @ pat / pat.shape[0]"
   ]
  },
  {
   "cell_type": "code",
   "execution_count": null,
   "metadata": {},
   "outputs": [],
   "source": [
    "# co to @?\n",
    "?dot"
   ]
  },
  {
   "cell_type": "code",
   "execution_count": null,
   "metadata": {},
   "outputs": [],
   "source": [
    "train()"
   ]
  },
  {
   "cell_type": "code",
   "execution_count": null,
   "metadata": {},
   "outputs": [],
   "source": [
    "W=pat.T @ pat / pat.shape[0]\n",
    "W-=eye(N,N)"
   ]
  },
  {
   "cell_type": "code",
   "execution_count": null,
   "metadata": {},
   "outputs": [],
   "source": [
    "?eye"
   ]
  },
  {
   "cell_type": "code",
   "execution_count": null,
   "metadata": {},
   "outputs": [],
   "source": [
    "W"
   ]
  },
  {
   "cell_type": "markdown",
   "metadata": {},
   "source": [
    "## Testujemy sieć zaburzonymi wzorcami"
   ]
  },
  {
   "cell_type": "code",
   "execution_count": null,
   "metadata": {},
   "outputs": [],
   "source": [
    "# wzorce zaburzone\n",
    "pat_test=pat.copy()\n",
    "pat_test[0][int(N/2):].fill(1)\n",
    "pat_test[1]*=choice([-1,1],100,p=[0.25,0.75]) # 1/4 odwrócona\n",
    "pat_test[2]*=choice([-1,1],100) # połowa \n",
    "pat_test[3]*=choice([-1,1],100,p=[0.75,0.25]) # 3/4 odwrócone"
   ]
  },
  {
   "cell_type": "code",
   "execution_count": null,
   "metadata": {},
   "outputs": [],
   "source": [
    "i=1\n",
    "for p in pat_test:\n",
    "    subplot(2,2,i)\n",
    "    i+=1\n",
    "    imshow(reshape(p,(10,10)))"
   ]
  },
  {
   "cell_type": "code",
   "execution_count": null,
   "metadata": {},
   "outputs": [],
   "source": [
    "X=pat_test[0]\n",
    "imshow(reshape(X,(10,10)))"
   ]
  },
  {
   "cell_type": "markdown",
   "metadata": {},
   "source": [
    "By wykonać wielokrotnie poniższą komórkę, naciskaj CTRL+ENTER. Uzyskasz kolejne iteracje dynamiki.\n",
    "\n",
    "Jak można to zautomatyzować (tzn. określić, czy sieć zbiegła do punktu stałego)?"
   ]
  },
  {
   "cell_type": "code",
   "execution_count": null,
   "metadata": {},
   "outputs": [],
   "source": [
    "Xn=zeros(N)\n",
    "\n",
    "for i in range(N):\n",
    "    for j in range(N):\n",
    "        Xn[i]+=W[i,j]*X[j]\n",
    "        \n",
    "# czy można zoptymalizować powyższą pętlę?\n",
    "\n",
    "X=sign(Xn)\n",
    "imshow(reshape(X,(10,10)));"
   ]
  },
  {
   "cell_type": "markdown",
   "metadata": {},
   "source": [
    "## Zdefiniuj funkcję przekrycia (overlap)\n",
    "Porównaj końcowy stan sieci z zapamiętanymi wzorcami by określić, który z nich został rozpoznany"
   ]
  },
  {
   "cell_type": "code",
   "execution_count": null,
   "metadata": {},
   "outputs": [],
   "source": []
  }
 ],
 "metadata": {
  "kernelspec": {
   "display_name": "Python 3",
   "language": "python",
   "name": "python3"
  },
  "language_info": {
   "codemirror_mode": {
    "name": "ipython",
    "version": 3
   },
   "file_extension": ".py",
   "mimetype": "text/x-python",
   "name": "python",
   "nbconvert_exporter": "python",
   "pygments_lexer": "ipython3",
   "version": "3.7.3"
  }
 },
 "nbformat": 4,
 "nbformat_minor": 4
}
