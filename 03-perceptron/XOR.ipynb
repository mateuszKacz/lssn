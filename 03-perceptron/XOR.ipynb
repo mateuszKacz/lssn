{
 "cells": [
  {
   "cell_type": "markdown",
   "metadata": {},
   "source": [
    "# Sieć neuronowa wielowarstwowa jednokierunkowa (perceptron)"
   ]
  },
  {
   "cell_type": "code",
   "execution_count": 1,
   "metadata": {},
   "outputs": [
    {
     "name": "stdout",
     "output_type": "stream",
     "text": [
      "Populating the interactive namespace from numpy and matplotlib\n"
     ]
    }
   ],
   "source": [
    "%pylab inline"
   ]
  },
  {
   "cell_type": "markdown",
   "metadata": {},
   "source": [
    "Liczba neuronów w kolejnych warstwach: wejściowej, ukrytej i wyjściowej"
   ]
  },
  {
   "cell_type": "code",
   "execution_count": 2,
   "metadata": {},
   "outputs": [],
   "source": [
    "n_in=2\n",
    "n_hid=20\n",
    "n_out=1"
   ]
  },
  {
   "cell_type": "markdown",
   "metadata": {},
   "source": [
    "Wzorce uczące będą miały postać wektorów o długości *n_in+n_out*"
   ]
  },
  {
   "cell_type": "markdown",
   "metadata": {},
   "source": [
    "## Stany neuronów\n",
    "W warstwie wejściowej i ukrytej umieszczamy dodatkowy neuron (tzw. bias), który **zawsze** jest aktywny.\n",
    "Bias zastępuje próg aktywacji neuronu"
   ]
  },
  {
   "cell_type": "code",
   "execution_count": 3,
   "metadata": {},
   "outputs": [],
   "source": [
    "S_in=zeros(n_in+1)\n",
    "S_hid=zeros(n_hid)\n",
    "S_out=zeros(n_out)\n",
    "\n",
    "S_in[-1]=1"
   ]
  },
  {
   "cell_type": "markdown",
   "metadata": {},
   "source": [
    "Średnie pole działające neurony w warstwach ukrytej i wyjściowej od neuronów z warstwy poprzedniej"
   ]
  },
  {
   "cell_type": "code",
   "execution_count": 4,
   "metadata": {},
   "outputs": [],
   "source": [
    "h_hid=zeros(n_hid)\n",
    "h_out=zeros(n_out)"
   ]
  },
  {
   "cell_type": "markdown",
   "metadata": {},
   "source": [
    "## Wagi połączeń\n",
    "### ... i ich różniczki (delty)\n",
    "Przeważnie początkowym wagom przypisuje się liczby losowe bliskie zera.\n",
    "\n",
    "Delty potrzebujemy do algorytmu wstecznej propagacji"
   ]
  },
  {
   "cell_type": "code",
   "execution_count": 5,
   "metadata": {},
   "outputs": [],
   "source": [
    "W_ih=2*rand(n_in+1,n_hid)-1\n",
    "W_ho=2*rand(n_hid,n_out)-1\n",
    "dW_ih=zeros((n_in+1,n_hid))\n",
    "dW_ho=zeros((n_hid,n_out))"
   ]
  },
  {
   "cell_type": "markdown",
   "metadata": {},
   "source": [
    "## Funkcja aktywacji wraz z pochodną\n",
    "wykorzystujemy funkcję sigmoidalną"
   ]
  },
  {
   "cell_type": "code",
   "execution_count": 6,
   "metadata": {},
   "outputs": [],
   "source": [
    "def f(x):\n",
    "    return 1/(1+exp(-x))\n",
    "\n",
    "def Df(x):\n",
    "    y=f(x)\n",
    "    return y*(1-y)"
   ]
  },
  {
   "cell_type": "markdown",
   "metadata": {},
   "source": [
    "## Karmimy sieć\n",
    "... czyli przekazujemy do warstwy wejściowej wzorzec *inp*"
   ]
  },
  {
   "cell_type": "code",
   "execution_count": 7,
   "metadata": {},
   "outputs": [],
   "source": [
    "def feed(inp):\n",
    "    S_in[:n_in]=inp"
   ]
  },
  {
   "cell_type": "markdown",
   "metadata": {},
   "source": [
    "### Dynamika sieci\n",
    "propagacja następuje od warstwy wejściowej, poprzez ukrytą, do wyjściowej"
   ]
  },
  {
   "cell_type": "code",
   "execution_count": 8,
   "metadata": {},
   "outputs": [],
   "source": [
    "def forward():\n",
    "    global h_hid, S_hid, h_out, S_out\n",
    "    h_hid=S_in @ W_ih\n",
    "    S_hid=f(h_hid)\n",
    "    h_out=S_hid @ W_ho\n",
    "    S_out=f(h_out)"
   ]
  },
  {
   "cell_type": "markdown",
   "metadata": {},
   "source": [
    "## .. i wszystko razem:"
   ]
  },
  {
   "cell_type": "code",
   "execution_count": 9,
   "metadata": {},
   "outputs": [],
   "source": [
    "def eval(inp):\n",
    "    feed(inp)\n",
    "    forward()\n",
    "    return S_out"
   ]
  },
  {
   "cell_type": "markdown",
   "metadata": {},
   "source": [
    "## Liczymy różnicę między uzyskanym a oczekiwanym wyjściem"
   ]
  },
  {
   "cell_type": "code",
   "execution_count": 10,
   "metadata": {},
   "outputs": [],
   "source": [
    "def diff(p):\n",
    "    return pat[p,n_in:]-S_out\n",
    "\n",
    "def error(p):\n",
    "    return sum(diff(p)**2)/2"
   ]
  },
  {
   "cell_type": "markdown",
   "metadata": {},
   "source": [
    "## Testujemy działanie sieci\n",
    "Funkcja logiczna XOR (alternatywa rozłączna) to najprostszy przykład problemu liniowo nieseparowalnego"
   ]
  },
  {
   "cell_type": "code",
   "execution_count": 11,
   "metadata": {},
   "outputs": [],
   "source": [
    "# XOR\n",
    "# wzorce postaci [in_1, in_2, out_1]\n",
    "pat=array([[0,0,0],[0,1,1],[1,0,1],[1,1,0]])"
   ]
  },
  {
   "cell_type": "markdown",
   "metadata": {},
   "source": [
    "## Uczenie sieci metodą wstecznej propagacji błędów\n",
    "parametr *eta* to szybkość uczenia"
   ]
  },
  {
   "cell_type": "code",
   "execution_count": 12,
   "metadata": {},
   "outputs": [
    {
     "name": "stdout",
     "output_type": "stream",
     "text": [
      "epoka: 1000, błąd: 0.007633774827101737\n"
     ]
    }
   ],
   "source": [
    "eta=0.5\n",
    "epoch=0\n",
    "Er=1\n",
    "error_history=[]\n",
    "p_num=pat.shape[0] # liczba wektorów uczących\n",
    "\n",
    "while (Er>0.001 and epoch<1000):\n",
    "    Er=0\n",
    "    dW_ih.fill(0)\n",
    "    dW_ho.fill(0)\n",
    "    for p in range(p_num):\n",
    "        feed(pat[p,:n_in])\n",
    "        forward()\n",
    "        \n",
    "        delta_out=Df(h_out)*diff(p)\n",
    "        dW_ho+=outer(S_hid,delta_out)\n",
    "        delta_hid=Df(h_hid)*(W_ho@delta_out)\n",
    "        dW_ih+=outer(S_in,delta_hid)\n",
    "        \n",
    "        Er+=error(p)\n",
    "\n",
    "    W_ih+=eta*dW_ih\n",
    "    W_ho+=eta*dW_ho\n",
    "    epoch+=1\n",
    "    error_history.append(Er)\n",
    "    \n",
    "print(\"epoka: {}, błąd: {}\".format(epoch, Er))"
   ]
  },
  {
   "cell_type": "markdown",
   "metadata": {},
   "source": [
    "outer()\n",
    "\n",
    "https://pl.wikipedia.org/wiki/Iloczyn_diadyczny"
   ]
  },
  {
   "cell_type": "code",
   "execution_count": 13,
   "metadata": {},
   "outputs": [
    {
     "data": {
      "text/plain": [
       "[<matplotlib.lines.Line2D at 0x7fda990a54d0>]"
      ]
     },
     "execution_count": 13,
     "metadata": {},
     "output_type": "execute_result"
    },
    {
     "data": {
      "image/png": "[encoded data removed]",
      "text/plain": [
       "<Figure size 432x288 with 1 Axes>"
      ]
     },
     "metadata": {
      "needs_background": "light"
     },
     "output_type": "display_data"
    }
   ],
   "source": [
    "plot(error_history)"
   ]
  },
  {
   "cell_type": "markdown",
   "metadata": {},
   "source": [
    "## Przestrzeń stanów\n",
    "... wraz z zaznaczonymi kolorami klasami"
   ]
  },
  {
   "cell_type": "code",
   "execution_count": 14,
   "metadata": {},
   "outputs": [
    {
     "data": {
      "image/png": "[encoded data removed]",
      "text/plain": [
       "<Figure size 432x288 with 1 Axes>"
      ]
     },
     "metadata": {
      "needs_background": "light"
     },
     "output_type": "display_data"
    }
   ],
   "source": [
    "n=10 # rozdzielczość\n",
    "z=zeros((n,n))\n",
    "x=linspace(0,1,n)\n",
    "for i in range(n):\n",
    "    for j in range(n):\n",
    "        z[i,j]=eval([x[j],x[i]])\n",
    "contourf(x,x,z);"
   ]
  },
  {
   "cell_type": "code",
   "execution_count": 15,
   "metadata": {},
   "outputs": [
    {
     "data": {
      "text/plain": [
       "[0.05063114629829578,\n",
       " 0.9356123953603955,\n",
       " 0.9395687393931538,\n",
       " 0.06984054071867521]"
      ]
     },
     "execution_count": 15,
     "metadata": {},
     "output_type": "execute_result"
    }
   ],
   "source": [
    "[eval(p[:n_in])[0] for p in pat]"
   ]
  }
 ],
 "metadata": {
  "kernelspec": {
   "display_name": "Python 3",
   "language": "python",
   "name": "python3"
  },
  "language_info": {
   "codemirror_mode": {
    "name": "ipython",
    "version": 3
   },
   "file_extension": ".py",
   "mimetype": "text/x-python",
   "name": "python",
   "nbconvert_exporter": "python",
   "pygments_lexer": "ipython3",
   "version": "3.7.4"
  }
 },
 "nbformat": 4,
 "nbformat_minor": 4
}
