{
 "cells": [
  {
   "cell_type": "markdown",
   "metadata": {},
   "source": [
    "# MLP - Multilayer perceptron"
   ]
  },
  {
   "cell_type": "code",
   "execution_count": 1,
   "metadata": {},
   "outputs": [
    {
     "name": "stdout",
     "output_type": "stream",
     "text": [
      "Populating the interactive namespace from numpy and matplotlib\n"
     ]
    }
   ],
   "source": [
    "%pylab inline"
   ]
  },
  {
   "cell_type": "code",
   "execution_count": 2,
   "metadata": {},
   "outputs": [],
   "source": [
    "class mlp:\n",
    "    '''Wielowarstwowy perceptron (1 warstwa ukryta)'''\n",
    "    def __init__(self, n_in, n_out, n_hid):\n",
    "        \n",
    "        # liczba neuronów w kolejnych warstwach\n",
    "        self.n_in=n_in\n",
    "        self.n_hid=n_hid\n",
    "        self.n_out=n_out\n",
    "\n",
    "        # stany neuronów\n",
    "        self.S_in=zeros(n_in+1)\n",
    "        self.S_hid=zeros(n_hid)\n",
    "        self.S_out=zeros(n_out)\n",
    "        self.S_in[-1]=1\n",
    "\n",
    "        # pola lokalne\n",
    "        self.h_hid=zeros(n_hid)\n",
    "        self.h_out=zeros(n_out)\n",
    "\n",
    "        # wagi połączeń\n",
    "        self.W_ih=zeros((n_in+1,n_hid))\n",
    "        self.W_ho=zeros((n_hid,n_out))\n",
    "\n",
    "        # delty\n",
    "        self.dW_ih=zeros((n_in+1,n_hid))\n",
    "        self.dW_ho=zeros((n_hid,n_out))\n",
    "        \n",
    "        self.reset()\n",
    "    \n",
    "    def reset(self):\n",
    "        self.W_ih = normal(0,1/sqrt(self.n_hid), self.W_ih.shape)\n",
    "        self.W_ho = normal(0,1/sqrt(self.n_out), self.W_ho.shape)\n",
    "        \n",
    "        \n",
    "    def f(self, x):\n",
    "        '''Funkcja aktywacji'''\n",
    "#         return 1/(1+exp(-x))\n",
    "#         return (tanh(x/2)+1)/2\n",
    "        return maximum(x,0) # ReLU - rectified linear unit\n",
    "\n",
    "    def Df(self, x):\n",
    "        '''Pochodna funkcji aktywacji'''\n",
    "#         y=self.f(x)\n",
    "#         return y*(1-y)\n",
    "#         return cosh(x)**-1/4\n",
    "        return heaviside(x,0)\n",
    "\n",
    "    def feed(self, inp):\n",
    "        '''Przekazuje wektor danych do warstwy wejściowej'''\n",
    "        self.S_in[:self.n_in]=inp\n",
    "\n",
    "    def forward(self):\n",
    "        '''Propaguje sygnał poprzez kolejne warstwy sieci'''\n",
    "        self.h_hid = self.S_in @ self.W_ih\n",
    "        self.S_hid = self.f(self.h_hid)\n",
    "        self.h_out = self.S_hid @ self.W_ho\n",
    "        self.S_out = self.f(self.h_out)\n",
    "        \n",
    "    def diff(self, p):\n",
    "        return self.trainData[p,self.n_in:] - self.S_out\n",
    "\n",
    "    def error(self,p):\n",
    "        return sum(self.diff(p)**2)/2\n",
    "    \n",
    "    def setTrainData(self,data):\n",
    "        '''Zapamiętuje referencję do wektorów uczących'''\n",
    "        self.trainData=data\n",
    "\n",
    "    def eval(self,inp):\n",
    "        self.feed(inp)\n",
    "        self.forward()\n",
    "        return self.S_out\n",
    "\n",
    "\n",
    "    def train(self, eta):\n",
    "        '''Jedna epoka.'''\n",
    "    \n",
    "        Er=0\n",
    "        p_num=self.trainData.shape[0]\n",
    "\n",
    "        self.dW_ih.fill(0)\n",
    "        self.dW_ho.fill(0)\n",
    "\n",
    "        for p in range(p_num):\n",
    "            self.feed(self.trainData[p,:self.n_in])\n",
    "            self.forward()\n",
    "        \n",
    "            self.delta_out = self.Df(self.h_out)*self.diff(p)\n",
    "            self.dW_ho += outer(self.S_hid, self.delta_out)\n",
    "            self.delta_hid = self.Df(self.h_hid)*(self.W_ho @ self.delta_out)\n",
    "            self.dW_ih += outer(self.S_in, self.delta_hid)\n",
    "\n",
    "            Er+=self.error(p)\n",
    "\n",
    "        self.W_ih+=eta*self.dW_ih\n",
    "        self.W_ho+=eta*self.dW_ho\n",
    "        return Er   "
   ]
  },
  {
   "cell_type": "code",
   "execution_count": 3,
   "metadata": {},
   "outputs": [],
   "source": [
    "pat=array([\n",
    "    [0,0,0,0,1,1,1,1,1,1,0], #0\n",
    "    [0,0,0,1,0,1,1,0,0,0,0], #1\n",
    "    [0,0,1,0,1,1,0,1,1,0,1], #2\n",
    "    [0,0,1,1,1,1,1,1,0,0,1], #3\n",
    "    [0,1,0,0,0,1,1,0,0,1,1], #4\n",
    "    [0,1,0,1,1,0,1,1,0,1,1], #5\n",
    "    [0,1,1,0,1,0,1,1,1,1,1], #6\n",
    "    [0,1,1,1,1,1,1,0,0,0,0], #7\n",
    "    [1,0,0,0,1,1,1,1,1,1,1], #8\n",
    "    [1,0,0,1,1,1,1,1,0,1,1], #9\n",
    "    [1,0,1,0,1,1,1,0,1,1,1], #A\n",
    "    [1,0,1,1,0,0,1,1,1,1,1], #B\n",
    "    [1,1,0,0,1,0,0,1,1,1,0], #C\n",
    "    [1,1,0,1,0,1,1,1,1,0,1], #D\n",
    "    [1,1,1,0,1,0,0,1,1,1,1], #E\n",
    "    [1,1,1,1,1,0,0,0,1,1,1]  #F\n",
    "])"
   ]
  },
  {
   "cell_type": "code",
   "execution_count": 4,
   "metadata": {},
   "outputs": [],
   "source": [
    "m=mlp(4,7,31)\n",
    "m.setTrainData(pat)"
   ]
  },
  {
   "cell_type": "code",
   "execution_count": 10,
   "metadata": {},
   "outputs": [],
   "source": [
    "m.reset()\n",
    "hist=[]"
   ]
  },
  {
   "cell_type": "code",
   "execution_count": 11,
   "metadata": {},
   "outputs": [
    {
     "name": "stdout",
     "output_type": "stream",
     "text": [
      "0.007893597849288763\n"
     ]
    }
   ],
   "source": [
    "eta=0.01\n",
    "for epoch in range(2000):\n",
    "    hist.append(m.train(eta))\n",
    "print(hist[-1])\n",
    "\n",
    "# 1 błędny segment dodaje 0.5 do błędu"
   ]
  },
  {
   "cell_type": "code",
   "execution_count": 12,
   "metadata": {},
   "outputs": [
    {
     "data": {
      "text/plain": [
       "[<matplotlib.lines.Line2D at 0x7f4a5e1ba0f0>]"
      ]
     },
     "execution_count": 12,
     "metadata": {},
     "output_type": "execute_result"
    },
    {
     "data": {
      "image/png": "[encoded data removed]",
      "text/plain": [
       "<Figure size 432x288 with 1 Axes>"
      ]
     },
     "metadata": {
      "needs_background": "light"
     },
     "output_type": "display_data"
    }
   ],
   "source": [
    "plot(hist)"
   ]
  },
  {
   "cell_type": "code",
   "execution_count": 8,
   "metadata": {},
   "outputs": [],
   "source": [
    "def lcd(segments):\n",
    "    pixels=[[1,2], [7,11], [19,23], [25,26],\n",
    "              [16,20], [4,8], [13,14]]\n",
    "    d=zeros(4*7)\n",
    "    for s in range(7):\n",
    "        if segments[s]:\n",
    "            d[pixels[s]]=1\n",
    "    imshow(d.reshape(7,4));\n",
    "\n",
    "ints=[[0,0,0,0], [0,0,0,1], [0,0,1,0], [0,0,1,1], \n",
    " [0,1,0,0], [0,1,0,1], [0,1,1,0], [0,1,1,1], \n",
    " [1,0,0,0], [1,0,0,1], [1,0,1,0], [1,0,1,1], \n",
    " [1,1,0,0], [1,1,0,1], [1,1,1,0], [1,1,1,1]]"
   ]
  },
  {
   "cell_type": "code",
   "execution_count": 13,
   "metadata": {},
   "outputs": [
    {
     "data": {
      "image/png": "[encoded data removed]",
      "text/plain": [
       "<Figure size 432x288 with 16 Axes>"
      ]
     },
     "metadata": {
      "needs_background": "light"
     },
     "output_type": "display_data"
    }
   ],
   "source": [
    "subplots(4,4)\n",
    "plt=1\n",
    "for i in ints:\n",
    "    subplot(4,4,plt)\n",
    "    lcd(m.eval(i)>0.5)\n",
    "    plt+=1"
   ]
  },
  {
   "cell_type": "code",
   "execution_count": null,
   "metadata": {},
   "outputs": [],
   "source": []
  }
 ],
 "metadata": {
  "kernelspec": {
   "display_name": "Python 3",
   "language": "python",
   "name": "python3"
  },
  "language_info": {
   "codemirror_mode": {
    "name": "ipython",
    "version": 3
   },
   "file_extension": ".py",
   "mimetype": "text/x-python",
   "name": "python",
   "nbconvert_exporter": "python",
   "pygments_lexer": "ipython3",
   "version": "3.7.3"
  }
 },
 "nbformat": 4,
 "nbformat_minor": 4
}
