{
 "cells": [
  {
   "cell_type": "code",
   "execution_count": 1,
   "metadata": {},
   "outputs": [
    {
     "name": "stdout",
     "output_type": "stream",
     "text": [
      "Populating the interactive namespace from numpy and matplotlib\n"
     ]
    }
   ],
   "source": [
    "%pylab inline"
   ]
  },
  {
   "cell_type": "code",
   "execution_count": 2,
   "metadata": {},
   "outputs": [],
   "source": [
    "n_in=4\n",
    "n_hid=15\n",
    "n_out=7\n",
    "\n",
    "S_in=zeros(n_in+1)\n",
    "S_hid=zeros(n_hid)\n",
    "S_out=zeros(n_out)\n",
    "\n",
    "S_in[-1]=1\n",
    "\n",
    "h_hid=zeros(n_hid)\n",
    "h_out=zeros(n_out)\n",
    "\n",
    "W_ih=2*rand(n_in+1,n_hid)-1\n",
    "W_ho=2*rand(n_hid,n_out)-1\n",
    "dW_ih=zeros((n_in+1,n_hid))\n",
    "dW_ho=zeros((n_hid,n_out))"
   ]
  },
  {
   "cell_type": "code",
   "execution_count": 3,
   "metadata": {},
   "outputs": [],
   "source": [
    "def f(x):\n",
    "    return 1/(1+exp(-x))\n",
    "\n",
    "def Df(x):\n",
    "    y=f(x)\n",
    "    return y*(1-y)"
   ]
  },
  {
   "cell_type": "code",
   "execution_count": 4,
   "metadata": {},
   "outputs": [],
   "source": [
    "def feed(inp):\n",
    "    S_in[:n_in]=inp\n",
    "\n",
    "def forward():\n",
    "    global h_hid, S_hid, h_out, S_out\n",
    "    h_hid=S_in @ W_ih\n",
    "    S_hid=f(h_hid)\n",
    "    h_out=S_hid @ W_ho\n",
    "    S_out=f(h_out)\n",
    "\n",
    "def eval(inp):\n",
    "    feed(inp)\n",
    "    forward()\n",
    "    return S_out\n",
    "\n",
    "def diff(p):\n",
    "    return pat[p,n_in:]-S_out\n",
    "\n",
    "def error(p):\n",
    "    return sum(diff(p)**2)/2"
   ]
  },
  {
   "cell_type": "code",
   "execution_count": 5,
   "metadata": {},
   "outputs": [],
   "source": [
    "pat=array([\n",
    "    [0,0,0,0,1,1,1,1,1,1,0], #0\n",
    "    [0,0,0,1,0,1,1,0,0,0,0], #1\n",
    "    [0,0,1,0,1,1,0,1,1,0,1], #2\n",
    "    [0,0,1,1,1,1,1,1,0,0,1], #3\n",
    "    [0,1,0,0,0,1,1,0,0,1,1], #4\n",
    "    [0,1,0,1,1,0,1,1,0,1,1], #5\n",
    "    [0,1,1,0,1,0,1,1,1,1,1], #6\n",
    "    [0,1,1,1,1,1,1,0,0,0,0], #7\n",
    "    [1,0,0,0,1,1,1,1,1,1,1], #8\n",
    "    [1,0,0,1,1,1,1,1,0,1,1], #9\n",
    "    [1,0,1,0,1,1,1,0,1,1,1], #A\n",
    "    [1,0,1,1,0,0,1,1,1,1,1], #B\n",
    "    [1,1,0,0,1,0,0,1,1,1,0], #C\n",
    "    [1,1,0,1,0,1,1,1,1,0,1], #D\n",
    "    [1,1,1,0,1,0,0,1,1,1,1], #E\n",
    "    [1,1,1,1,1,0,0,0,1,1,1]  #F\n",
    "])"
   ]
  },
  {
   "cell_type": "code",
   "execution_count": 6,
   "metadata": {},
   "outputs": [],
   "source": [
    "def lcd(segments):\n",
    "    pixels=[[1,2], [7,11], [19,23], [25,26],\n",
    "              [16,20], [4,8], [13,14]]\n",
    "    d=zeros(4*7)\n",
    "    for s in range(7):\n",
    "        if segments[s]:\n",
    "            d[pixels[s]]=1\n",
    "    imshow(d.reshape(7,4));\n",
    "\n",
    "ints=[[0,0,0,0], [0,0,0,1], [0,0,1,0], [0,0,1,1], \n",
    " [0,1,0,0], [0,1,0,1], [0,1,1,0], [0,1,1,1], \n",
    " [1,0,0,0], [1,0,0,1], [1,0,1,0], [1,0,1,1], \n",
    " [1,1,0,0], [1,1,0,1], [1,1,1,0], [1,1,1,1]]"
   ]
  },
  {
   "cell_type": "code",
   "execution_count": 7,
   "metadata": {},
   "outputs": [
    {
     "name": "stdout",
     "output_type": "stream",
     "text": [
      "epoka: 2000, błąd: 1.0212301934338168\n"
     ]
    }
   ],
   "source": [
    "eta=0.5\n",
    "epoch=0\n",
    "Er=1\n",
    "error_history=[]\n",
    "p_num=pat.shape[0] # liczba wektorów uczących\n",
    "# pats=array(range(p_num))\n",
    "\n",
    "while (Er>0.001 and epoch<2000):\n",
    "    Er=0\n",
    "    dW_ih.fill(0)\n",
    "    dW_ho.fill(0)\n",
    "#     random.shuffle(pats)\n",
    "\n",
    "    for p in range(p_num):\n",
    "#         pats[:int(p_num/2)]:\n",
    "        feed(pat[p,:n_in])\n",
    "        forward()\n",
    "        \n",
    "        delta_out=Df(h_out)*diff(p)\n",
    "        dW_ho+=outer(S_hid,delta_out)\n",
    "        delta_hid=Df(h_hid)*(W_ho@delta_out)\n",
    "        dW_ih+=outer(S_in,delta_hid)\n",
    "        \n",
    "        Er+=error(p)\n",
    "\n",
    "    W_ih+=eta*dW_ih\n",
    "    W_ho+=eta*dW_ho\n",
    "    epoch+=1\n",
    "    error_history.append(Er)\n",
    "    \n",
    "print(\"epoka: {}, błąd: {}\".format(epoch, Er))"
   ]
  },
  {
   "cell_type": "code",
   "execution_count": 8,
   "metadata": {},
   "outputs": [
    {
     "data": {
      "text/plain": [
       "[<matplotlib.lines.Line2D at 0x7f758bf50550>]"
      ]
     },
     "execution_count": 8,
     "metadata": {},
     "output_type": "execute_result"
    },
    {
     "data": {
      "image/png": "[encoded data removed]",
      "text/plain": [
       "<Figure size 432x288 with 1 Axes>"
      ]
     },
     "metadata": {
      "needs_background": "light"
     },
     "output_type": "display_data"
    }
   ],
   "source": [
    "plot(error_history)"
   ]
  },
  {
   "cell_type": "code",
   "execution_count": 9,
   "metadata": {},
   "outputs": [
    {
     "data": {
      "image/png": "[encoded data removed]",
      "text/plain": [
       "<Figure size 432x288 with 16 Axes>"
      ]
     },
     "metadata": {
      "needs_background": "light"
     },
     "output_type": "display_data"
    }
   ],
   "source": [
    "subplots(4,4)\n",
    "plt=1\n",
    "for i in ints:\n",
    "    subplot(4,4,plt)\n",
    "    lcd(eval(i)>0.5)\n",
    "    plt+=1"
   ]
  },
  {
   "cell_type": "code",
   "execution_count": null,
   "metadata": {},
   "outputs": [],
   "source": []
  }
 ],
 "metadata": {
  "kernelspec": {
   "display_name": "Python 3",
   "language": "python",
   "name": "python3"
  },
  "language_info": {
   "codemirror_mode": {
    "name": "ipython",
    "version": 3
   },
   "file_extension": ".py",
   "mimetype": "text/x-python",
   "name": "python",
   "nbconvert_exporter": "python",
   "pygments_lexer": "ipython3",
   "version": "3.7.3"
  }
 },
 "nbformat": 4,
 "nbformat_minor": 4
}
