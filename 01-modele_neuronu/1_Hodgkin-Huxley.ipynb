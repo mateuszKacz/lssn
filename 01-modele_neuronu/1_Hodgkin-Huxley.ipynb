{
 "cells": [
  {
   "cell_type": "code",
   "execution_count": null,
   "metadata": {},
   "outputs": [],
   "source": [
    "%pylab inline\n",
    "from scipy.integrate import odeint"
   ]
  },
  {
   "cell_type": "markdown",
   "metadata": {},
   "source": [
    "<img src=\"hh.jpg\" width=50%/>"
   ]
  },
  {
   "cell_type": "markdown",
   "metadata": {},
   "source": [
    "<img src=\"hh_eq1.jpg\" width=50%/>"
   ]
  },
  {
   "cell_type": "markdown",
   "metadata": {},
   "source": [
    "<img src=\"hh_eq2.jpg\" width=25%/>"
   ]
  },
  {
   "cell_type": "code",
   "execution_count": null,
   "metadata": {},
   "outputs": [],
   "source": [
    "# Average potassium channel conductance per unit area (mS/cm^2)\n",
    "gK = 36.0\n",
    "\n",
    "# Average sodoum channel conductance per unit area (mS/cm^2)\n",
    "gNa = 120.0\n",
    "\n",
    "# Average leak channel conductance per unit area (mS/cm^2)\n",
    "gL = 0.3\n",
    "\n",
    "# Membrane capacitance per unit area (uF/cm^2)\n",
    "Cm = 1.0\n",
    "\n",
    "# Potassium potential (mV)\n",
    "VK = -12.0\n",
    "\n",
    "# Sodium potential (mV)\n",
    "VNa = 115.0\n",
    "\n",
    "# Leak potential (mV)\n",
    "Vl = 10.613"
   ]
  },
  {
   "cell_type": "code",
   "execution_count": null,
   "metadata": {},
   "outputs": [],
   "source": [
    "# Potassium ion-channel rate functions\n",
    "\n",
    "def alpha_n(Vm):\n",
    "    return (0.01 * (10.0 - Vm)) / (exp(1.0 - (0.1 * Vm)) - 1.0)\n",
    "\n",
    "def beta_n(Vm):\n",
    "    return 0.125 * exp(-Vm / 80.0)\n",
    "\n",
    "# Sodium ion-channel rate functions\n",
    "\n",
    "def alpha_m(Vm):\n",
    "    return (0.1 * (25.0 - Vm)) / (exp(2.5 - (0.1 * Vm)) - 1.0)\n",
    "\n",
    "def beta_m(Vm):\n",
    "    return 4.0 * exp(-Vm / 18.0)\n",
    "\n",
    "def alpha_h(Vm):\n",
    "    return 0.07 * exp(-Vm / 20.0)\n",
    "\n",
    "def beta_h(Vm):\n",
    "    return 1.0 / (exp(3.0 - (0.1 * Vm)) + 1.0)"
   ]
  },
  {
   "cell_type": "code",
   "execution_count": null,
   "metadata": {},
   "outputs": [],
   "source": [
    "# The Model\n",
    "\n",
    "def dXdt(X, t):\n",
    "    dX=zeros(4)\n",
    "    Vm, n, m, h = X\n",
    "    \n",
    "    # dVm/dt\n",
    "    GK = gK * n**4 / Cm\n",
    "    GNa = gNa * m**3.0 * h / Cm\n",
    "    GL = gL / Cm\n",
    "    \n",
    "    dX[0] = (Id(t) / Cm) - (GK * (Vm - VK)) - (GNa * (Vm - VNa)) - (GL * (Vm - Vl))\n",
    "    \n",
    "    # dn/dt\n",
    "    dX[1] = alpha_n(Vm) * (1 - n) - beta_n(Vm) * n\n",
    "    \n",
    "    # dm/dt\n",
    "    dX[2] = alpha_m(Vm) * (1 - m) - beta_m(Vm) * m\n",
    "    \n",
    "    # dh/dt\n",
    "    dX[3] = alpha_h(Vm) * (1 - h) - beta_h(Vm) * h\n",
    "    \n",
    "    return dX"
   ]
  },
  {
   "cell_type": "code",
   "execution_count": null,
   "metadata": {},
   "outputs": [],
   "source": [
    "# Input stimulus\n",
    "def Id(t):\n",
    "    return 100*(sin(t/5)>0.999)"
   ]
  },
  {
   "cell_type": "code",
   "execution_count": null,
   "metadata": {},
   "outputs": [],
   "source": [
    "# Time values\n",
    "T = np.linspace(0, 100, 10000)\n",
    "# Solve ODE system\n",
    "x0=array([0.0, 0.5, 0.0, 0.3])\n",
    "\n",
    "x = odeint(dXdt, x0, T)"
   ]
  },
  {
   "cell_type": "code",
   "execution_count": null,
   "metadata": {},
   "outputs": [],
   "source": [
    "# Input stimulus\n",
    "Idv = [Id(t) for t in T]\n",
    "\n",
    "fig, ax = plt.subplots(figsize=(12, 7))\n",
    "ax.plot(T, Idv)\n",
    "ax.set_xlabel('Time (ms)')\n",
    "ax.set_ylabel(r'Current density (uA/$cm^2$)')\n",
    "ax.set_title('Stimulus (Current density)')\n",
    "plt.grid()\n",
    "\n",
    "# Neuron potential\n",
    "fig, ax = plt.subplots(figsize=(12, 7))\n",
    "ax.plot(T, x[:, 0])\n",
    "ax.set_xlabel('Time (ms)')\n",
    "ax.set_ylabel('Vm (mV)')\n",
    "ax.set_title('Neuron potential')\n",
    "plt.grid()\n",
    "\n",
    "# Trajectories with limit cycles\n",
    "fig, ax = plt.subplots(figsize=(10, 10))\n",
    "ax.plot(x[:, 0], x[:, 1], label='Vm - n')\n",
    "ax.plot(x[:, 0], x[:, 2], label='Vm - m')\n",
    "ax.set_title('Limit cycles')\n",
    "ax.legend()\n",
    "plt.grid()"
   ]
  }
 ],
 "metadata": {
  "kernelspec": {
   "display_name": "Python 3",
   "language": "python",
   "name": "python3"
  },
  "language_info": {
   "codemirror_mode": {
    "name": "ipython",
    "version": 3
   },
   "file_extension": ".py",
   "mimetype": "text/x-python",
   "name": "python",
   "nbconvert_exporter": "python",
   "pygments_lexer": "ipython3",
   "version": "3.7.3"
  }
 },
 "nbformat": 4,
 "nbformat_minor": 4
}
