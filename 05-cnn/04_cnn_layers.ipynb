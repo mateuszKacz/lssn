{
 "cells": [
  {
   "cell_type": "code",
   "execution_count": null,
   "metadata": {},
   "outputs": [],
   "source": [
    "%run 03_cnn.ipynb"
   ]
  },
  {
   "cell_type": "code",
   "execution_count": null,
   "metadata": {},
   "outputs": [],
   "source": [
    "filters=array([\n",
    "    [\n",
    "        # krawędzie pionowe prawe\n",
    "        [-1,1,0],\n",
    "        [-1,1,0],\n",
    "        [-1,1,0]\n",
    "    ],\n",
    "    [\n",
    "        # krawędzie pionowe lewe\n",
    "        [1,-1,0],\n",
    "        [1,-1,0],\n",
    "        [1,-1,0]\n",
    "    ]\n",
    "])"
   ]
  },
  {
   "cell_type": "code",
   "execution_count": null,
   "metadata": {},
   "outputs": [],
   "source": [
    "i=0\n",
    "im=data[i]\n",
    "# im=maxpooling(data[i],3)\n",
    "poka(im)"
   ]
  },
  {
   "cell_type": "code",
   "execution_count": null,
   "metadata": {},
   "outputs": [],
   "source": [
    "c = array([relu(conv(im,f)) for f in filters])\n",
    "c.shape"
   ]
  },
  {
   "cell_type": "code",
   "execution_count": null,
   "metadata": {},
   "outputs": [],
   "source": [
    "cols=filters.shape[0]\n",
    "i=1\n",
    "for im in c:\n",
    "    subplot(1,cols,i)\n",
    "    poka(im)\n",
    "    i+=1"
   ]
  },
  {
   "cell_type": "code",
   "execution_count": null,
   "metadata": {},
   "outputs": [],
   "source": [
    "c = array([maxpooling(im,2) for im in c])\n",
    "c.shape"
   ]
  },
  {
   "cell_type": "code",
   "execution_count": null,
   "metadata": {},
   "outputs": [],
   "source": [
    "cols=c.shape[0]\n",
    "i=1\n",
    "for im in c:\n",
    "    subplot(1,cols,i)\n",
    "    poka(im)\n",
    "    i+=1"
   ]
  },
  {
   "cell_type": "code",
   "execution_count": null,
   "metadata": {},
   "outputs": [],
   "source": [
    "# wejście dla MLP\n",
    "in_layer = c.reshape(-1)\n",
    "in_layer.shape"
   ]
  },
  {
   "cell_type": "code",
   "execution_count": null,
   "metadata": {},
   "outputs": [],
   "source": [
    "# wyjście dla MLP\n",
    "out_layer = eye(10)[classes[i]]\n",
    "out_layer"
   ]
  },
  {
   "cell_type": "code",
   "execution_count": null,
   "metadata": {},
   "outputs": [],
   "source": []
  }
 ],
 "metadata": {
  "kernelspec": {
   "display_name": "Python 3",
   "language": "python",
   "name": "python3"
  },
  "language_info": {
   "codemirror_mode": {
    "name": "ipython",
    "version": 3
   },
   "file_extension": ".py",
   "mimetype": "text/x-python",
   "name": "python",
   "nbconvert_exporter": "python",
   "pygments_lexer": "ipython3",
   "version": "3.7.3"
  }
 },
 "nbformat": 4,
 "nbformat_minor": 4
}
