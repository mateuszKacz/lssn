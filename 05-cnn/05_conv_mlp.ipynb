{
 "cells": [
  {
   "cell_type": "markdown",
   "metadata": {},
   "source": [
    "# Przykład **bez wstecznej propagacji** przez warstwy konwolucyjne"
   ]
  },
  {
   "cell_type": "code",
   "execution_count": null,
   "metadata": {},
   "outputs": [],
   "source": [
    "%run 03_cnn.ipynb\n",
    "%run mlp.ipynb\n",
    "from tqdm import tqdm"
   ]
  },
  {
   "cell_type": "code",
   "execution_count": null,
   "metadata": {},
   "outputs": [],
   "source": [
    "filters=array([\n",
    "    [\n",
    "        # krawędzie pionowe prawe\n",
    "        [-1,1,0],\n",
    "        [-1,1,0],\n",
    "        [-1,1,0]\n",
    "    ],\n",
    "    [\n",
    "        # krawędzie pionowe lewe\n",
    "        [1,-1,0],\n",
    "        [1,-1,0],\n",
    "        [1,-1,0]\n",
    "    ]\n",
    "])"
   ]
  },
  {
   "cell_type": "code",
   "execution_count": null,
   "metadata": {},
   "outputs": [],
   "source": [
    "in_layer=[]\n",
    "out_layer=[]\n",
    "for i in range(pat_num):\n",
    "    im = maxpooling(data[i],3)\n",
    "    c = array([relu(conv(im,f)) for f in filters])\n",
    "    c = array([maxpooling(im,2) for im in c])\n",
    "    in_layer.append(c)\n",
    "    out_layer.append(eye(10)[classes[i]])\n",
    "\n",
    "in_layer = array(in_layer).reshape(pat_num,-1)\n",
    "out_layer = array(out_layer)"
   ]
  },
  {
   "cell_type": "code",
   "execution_count": null,
   "metadata": {},
   "outputs": [],
   "source": [
    "# in_layer /= in_layer.std()\n",
    "# in_layer -= in_layer.mean()\n",
    "in_layer -= in_layer.min()\n",
    "in_layer /= in_layer.max()\n"
   ]
  },
  {
   "cell_type": "code",
   "execution_count": null,
   "metadata": {},
   "outputs": [],
   "source": [
    "in_layer.shape, out_layer.shape"
   ]
  },
  {
   "cell_type": "code",
   "execution_count": null,
   "metadata": {},
   "outputs": [],
   "source": [
    "train = np.concatenate((in_layer, out_layer), axis=1)"
   ]
  },
  {
   "cell_type": "code",
   "execution_count": null,
   "metadata": {},
   "outputs": [],
   "source": [
    "train.shape"
   ]
  },
  {
   "cell_type": "code",
   "execution_count": null,
   "metadata": {},
   "outputs": [],
   "source": [
    "nn = mlp(in_layer.shape[1], 10, 78)"
   ]
  },
  {
   "cell_type": "code",
   "execution_count": null,
   "metadata": {},
   "outputs": [],
   "source": [
    "nn.setTrainData(train)"
   ]
  },
  {
   "cell_type": "code",
   "execution_count": null,
   "metadata": {},
   "outputs": [],
   "source": [
    "nn.reset()\n",
    "hist=[]"
   ]
  },
  {
   "cell_type": "code",
   "execution_count": null,
   "metadata": {},
   "outputs": [],
   "source": [
    "eta=0.0001\n",
    "for epoch in tqdm(range(100)):\n",
    "    hist.append(nn.train(eta))\n",
    "print(hist[-1])"
   ]
  },
  {
   "cell_type": "code",
   "execution_count": null,
   "metadata": {},
   "outputs": [],
   "source": [
    "plot(hist)"
   ]
  },
  {
   "cell_type": "code",
   "execution_count": null,
   "metadata": {},
   "outputs": [],
   "source": []
  }
 ],
 "metadata": {
  "kernelspec": {
   "display_name": "Python 3",
   "language": "python",
   "name": "python3"
  },
  "language_info": {
   "codemirror_mode": {
    "name": "ipython",
    "version": 3
   },
   "file_extension": ".py",
   "mimetype": "text/x-python",
   "name": "python",
   "nbconvert_exporter": "python",
   "pygments_lexer": "ipython3",
   "version": "3.7.3"
  }
 },
 "nbformat": 4,
 "nbformat_minor": 4
}
