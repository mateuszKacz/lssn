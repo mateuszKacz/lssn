{
 "cells": [
  {
   "cell_type": "code",
   "execution_count": null,
   "metadata": {},
   "outputs": [],
   "source": [
    "%run 00_data.ipynb"
   ]
  },
  {
   "cell_type": "code",
   "execution_count": null,
   "metadata": {},
   "outputs": [],
   "source": [
    "def conv(image, kernel):\n",
    "    edge=(kernel.shape[0]-1)//2  # obcina krawędź\n",
    "    return convolve(image, kernel, mode='constant', cval=0)[edge:-edge,edge:-edge]\n",
    "\n",
    "# funkcja aktywacji (Rectified Linear Unit)\n",
    "def relu(x):\n",
    "    return maximum(x,0)\n",
    "\n",
    "# down-sample\n",
    "def maxpooling(x, n=2):\n",
    "    w, h = x.shape\n",
    "    nw, nh = int(ceil(w/n)), int(ceil(h/n))\n",
    "    result=zeros(nw*nh)\n",
    "    inds=[]\n",
    "    k=0\n",
    "\n",
    "    for i in range(0,h,n):\n",
    "        for j in range(0,w,n):\n",
    "            shft=array([i,j])\n",
    "            slce=x[i:i+n,j:j+n]\n",
    "            ind = tuple(unravel_index(argmax(slce), slce.shape))\n",
    "            result[k]=slce[ind]\n",
    "            inds.append(tuple(ind+shft))\n",
    "            k+=1\n",
    "            \n",
    "    return result.reshape(nw,nh)"
   ]
  }
 ],
 "metadata": {
  "kernelspec": {
   "display_name": "Python 3",
   "language": "python",
   "name": "python3"
  },
  "language_info": {
   "codemirror_mode": {
    "name": "ipython",
    "version": 3
   },
   "file_extension": ".py",
   "mimetype": "text/x-python",
   "name": "python",
   "nbconvert_exporter": "python",
   "pygments_lexer": "ipython3",
   "version": "3.7.3"
  }
 },
 "nbformat": 4,
 "nbformat_minor": 4
}
