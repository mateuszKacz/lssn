{
 "cells": [
  {
   "cell_type": "markdown",
   "metadata": {},
   "source": [
    "# Associative Dynamics in a Chaotic Neural Network\n",
    "## M. Adachi, K. Aihara\n",
    "*Neural Networks **10**, 1, 8348 (1997)*"
   ]
  },
  {
   "cell_type": "markdown",
   "metadata": {},
   "source": [
    "$$\n",
    "x_i(t+1) = f[\\eta_i(t+1)+\\zeta_i(t+1)]\n",
    "$$\n",
    "\n",
    "$$\n",
    "\\eta_i(t+1)=\\sum \\limits_j^N w_{ij}x_j(t)+k_f \\eta_i(t)\n",
    "$$\n",
    "\n",
    "$$\n",
    "\\zeta_i(t+1)=k_r \\zeta_i(t) - \\alpha x_i(t) + a_i\n",
    "$$\n",
    "\n",
    "- $k_f$ - decay of feedback\n",
    "- $k_r$ - decay of refract.\n",
    "- $\\alpha$ - refractory scaling\n",
    "\n",
    "Uczymy za pomocą reguły Hebba:\n",
    "$$\n",
    "w_{ij} = \\frac{1}{P} \\sum \\limits_p^P x_i^{(p)} x_j^{(p)}\n",
    "$$\n",
    "\n",
    "Obserwujemy przekrycie (overlap) ze wzorcem $p$:\n",
    "$$\n",
    "\\mu_p = \\frac{1}{N} \\sum \\limits_i^N x_i^{(p)}(2x_i-1)\n",
    "$$"
   ]
  },
  {
   "cell_type": "code",
   "execution_count": null,
   "metadata": {},
   "outputs": [],
   "source": [
    "%pylab"
   ]
  },
  {
   "cell_type": "code",
   "execution_count": null,
   "metadata": {},
   "outputs": [],
   "source": [
    "# fcja aktywacji\n",
    "# f=lambda y,ϵ=0.015: 1/(1+exp(-y/ϵ));\n",
    "f=lambda y,ϵ=0.03: (tanh(y/ϵ)+1)/2;"
   ]
  },
  {
   "cell_type": "code",
   "execution_count": null,
   "metadata": {},
   "outputs": [],
   "source": [
    "L=10\n",
    "N=L*L\n",
    "\n",
    "# przykładowe wzorce\n",
    "patterns=2*array([\n",
    "    [0,0,0,0,0,1,0,0,0,0,\n",
    "    0,0,0,0,1,1,1,0,0,0,\n",
    "    0,0,0,0,1,1,1,0,0,0,\n",
    "    0,0,0,1,1,1,1,1,0,0,\n",
    "    0,0,0,1,1,0,1,1,0,0,\n",
    "    0,0,1,1,1,0,1,1,1,0,\n",
    "    0,0,1,1,0,0,0,1,1,0,\n",
    "    0,1,1,1,0,0,0,1,1,1,\n",
    "    0,1,1,1,1,1,1,1,1,1,\n",
    "    0,1,1,1,1,1,1,1,1,1],\n",
    "\n",
    "    [0,0,1,1,1,0,0,0,1,1,\n",
    "    0,1,1,1,1,1,1,1,1,1,\n",
    "    1,1,1,0,1,1,1,1,0,0,\n",
    "    1,1,0,0,0,1,1,0,0,0,\n",
    "    0,0,0,0,0,0,0,0,0,0,\n",
    "    0,0,0,1,1,0,0,0,1,1,\n",
    "    0,0,1,1,1,1,0,1,1,1,\n",
    "    1,1,1,1,1,1,1,1,1,0,\n",
    "    1,1,0,0,0,1,1,1,0,0,\n",
    "    0,0,0,0,0,0,0,0,0,0],\n",
    "\n",
    "    [0,0,1,0,0,0,0,1,0,0,\n",
    "    0,0,1,1,0,0,1,1,0,0,\n",
    "    0,0,1,1,1,1,1,1,0,0,\n",
    "    0,0,1,1,1,1,1,1,0,0,\n",
    "    0,0,1,1,1,1,1,1,0,0,\n",
    "    0,1,1,1,1,1,1,1,1,0,\n",
    "    1,1,1,1,1,1,1,1,1,1,\n",
    "    0,0,0,1,1,1,1,0,0,0,\n",
    "    0,0,0,0,1,1,0,0,0,0,\n",
    "    0,0,0,0,0,1,0,0,0,0],\n",
    "\n",
    "    [1,1,0,0,0,0,0,0,1,1,\n",
    "    1,1,1,0,0,0,0,1,1,1,\n",
    "    0,1,1,1,0,0,1,1,1,0,\n",
    "    0,0,1,1,1,1,1,1,0,0,\n",
    "    0,0,0,1,1,1,0,0,0,0,\n",
    "    0,0,0,0,1,1,1,0,0,0,\n",
    "    0,0,1,1,1,1,1,1,0,0,\n",
    "    0,1,1,1,0,0,1,1,1,0,\n",
    "    1,1,1,0,0,0,0,1,1,1,\n",
    "    1,1,0,0,0,0,0,0,1,1]\n",
    "])-1\n",
    "\n",
    "# wzorzec nieznany\n",
    "unknown = 2*array(\n",
    "    [1,1,1,1,1,1,1,1,1,1,\n",
    "    1,0,0,1,1,1,1,0,0,1,\n",
    "    1,0,0,0,0,0,0,0,0,1,\n",
    "    1,1,0,0,0,0,0,0,1,1,\n",
    "    1,1,0,0,0,0,0,0,1,1,\n",
    "    1,1,0,0,0,0,0,0,1,1,\n",
    "    1,1,0,0,0,0,0,0,1,1,\n",
    "    1,0,0,0,0,0,0,0,0,1,\n",
    "    1,0,0,1,1,1,1,0,0,1,\n",
    "    1,1,1,1,1,1,1,1,1,1]\n",
    ")-1"
   ]
  },
  {
   "cell_type": "code",
   "execution_count": null,
   "metadata": {
    "scrolled": true
   },
   "outputs": [],
   "source": [
    "i=1\n",
    "for p in [*patterns,unknown]:\n",
    "    subplot(1,5,i)\n",
    "    i=i+1\n",
    "    imshow(p.reshape(L,L))"
   ]
  },
  {
   "cell_type": "code",
   "execution_count": null,
   "metadata": {},
   "outputs": [],
   "source": [
    "# kf=0.2 # decay of feedback\n",
    "# kr=0.9 # decay of refract.\n",
    "# alpha=10 # refractory scaling\n",
    "\n",
    "# parametry z pracy Hirata, Oku, Aihara, Chaos 22, 047511 (2012)\n",
    "kf=0.8 # decay of feedback\n",
    "kr=0.9 # decay of refract.\n",
    "alpha=12 # refractory scaling\n",
    "\n",
    "x=zeros(N)  # outputs\n",
    "eta=zeros(N)  # feedback\n",
    "zeta=zeros(N) # refractoriness\n",
    "w=zeros((N,N));"
   ]
  },
  {
   "cell_type": "code",
   "execution_count": null,
   "metadata": {},
   "outputs": [],
   "source": [
    "# reguła Hebba\n",
    "\n",
    "def train():\n",
    "    global w\n",
    "    w=patterns.T @ patterns / patterns.shape[0]\n",
    "    w-=eye(N,N)\n",
    "\n",
    "train()"
   ]
  },
  {
   "cell_type": "code",
   "execution_count": null,
   "metadata": {},
   "outputs": [],
   "source": [
    "def one_step():\n",
    "    global x, w, zeta, eta, a\n",
    "    zeta=kr*zeta-alpha*x+a\n",
    "    eta=kf*eta+w@x\n",
    "    x=f(eta+zeta)"
   ]
  },
  {
   "cell_type": "code",
   "execution_count": null,
   "metadata": {},
   "outputs": [],
   "source": [
    "def overlap(x,pat):\n",
    "   return (2*x-1) @ pat / N"
   ]
  },
  {
   "cell_type": "code",
   "execution_count": null,
   "metadata": {},
   "outputs": [],
   "source": [
    "figsize(12,8)\n",
    "\n",
    "steps=100\n",
    "# steps=1000\n",
    "\n",
    "x=rand(N)\n",
    "overlaps=zeros((patterns.shape[0],steps))\n",
    "a=6.4\n",
    "# a=6.4 + patterns[1]\n",
    "\n",
    "# transient\n",
    "for t in range(100):\n",
    "    one_step()\n",
    "\n",
    "cols=10\n",
    "\n",
    "for t in range(steps):\n",
    "    one_step()\n",
    "\n",
    "    subplot(steps//cols,cols,t+1); imshow(x.reshape(10,10))\n",
    "    \n",
    "    for i in range(patterns.shape[0]):\n",
    "        overlaps[i,t]=overlap(x,patterns[i])"
   ]
  },
  {
   "cell_type": "code",
   "execution_count": null,
   "metadata": {},
   "outputs": [],
   "source": [
    "i=1\n",
    "for o in overlaps:\n",
    "    subplot(2,2,i)\n",
    "    plot(o,\"k-\")\n",
    "    i=i+1"
   ]
  },
  {
   "cell_type": "code",
   "execution_count": null,
   "metadata": {},
   "outputs": [],
   "source": [
    "i=1\n",
    "for o in overlaps:\n",
    "    subplot(2,2,i)\n",
    "    plot(o[:-1],o[1:],\"k.\", alpha=0.3)\n",
    "    i+=1"
   ]
  },
  {
   "cell_type": "code",
   "execution_count": null,
   "metadata": {},
   "outputs": [],
   "source": [
    "for o in overlaps:\n",
    "    print(sum(abs(o))/steps)"
   ]
  }
 ],
 "metadata": {
  "anaconda-cloud": {},
  "kernelspec": {
   "display_name": "Python 3",
   "language": "python",
   "name": "python3"
  },
  "language_info": {
   "codemirror_mode": {
    "name": "ipython",
    "version": 3
   },
   "file_extension": ".py",
   "mimetype": "text/x-python",
   "name": "python",
   "nbconvert_exporter": "python",
   "pygments_lexer": "ipython3",
   "version": "3.7.3"
  }
 },
 "nbformat": 4,
 "nbformat_minor": 4
}
