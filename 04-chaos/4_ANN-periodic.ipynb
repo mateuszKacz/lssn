{
 "cells": [
  {
   "cell_type": "markdown",
   "metadata": {},
   "source": [
    "# Sieć neuronowa z pobudzeniem periodycznym\n",
    "\n",
    "*RK, AK, AS, APPA **100** (2001)*\n",
    "\n",
    "$$\n",
    "S_i(t+1)=\\tanh(g h_i(t)+I(t))\n",
    "$$\n",
    "\n",
    "$$\n",
    "h_i(t) = \\sum \\limits_j J_{ij} S_j(t)\n",
    "$$\n",
    "\n",
    "- $h_i(t)$ - pole lokalne działające na $i$-ty neuron\n",
    "- $J_{ij} \\in [-1,1]$ - połączenie synaptycze między neuronami $i$ i $j$\n",
    "- obserwujemy globalną dynamikę: $\\sigma(t) = \\frac{1}{N}\\sum \\limits_{i=1}^N[S_i(0)-S_i(t)]^2$\n"
   ]
  },
  {
   "cell_type": "code",
   "execution_count": null,
   "metadata": {},
   "outputs": [],
   "source": [
    "%pylab"
   ]
  },
  {
   "cell_type": "code",
   "execution_count": null,
   "metadata": {},
   "outputs": [],
   "source": [
    "# activation\n",
    "f = lambda x, g, I: tanh(g*x+I)\n",
    "\n",
    "# local field\n",
    "h = lambda S,J: J@S\n",
    "\n",
    "# external stimulation\n",
    "I = lambda t,A,T: A*sin(2*pi/T * t)"
   ]
  },
  {
   "cell_type": "code",
   "execution_count": null,
   "metadata": {},
   "outputs": [],
   "source": [
    "next_state = lambda S, J, g, A, T, t: f(h(S,J),g,I(t,A,T))"
   ]
  },
  {
   "cell_type": "code",
   "execution_count": null,
   "metadata": {},
   "outputs": [],
   "source": [
    "# dev()=sum((S-S0).^2)/N\n",
    "dev = lambda: sum(S**2)/N"
   ]
  },
  {
   "cell_type": "code",
   "execution_count": null,
   "metadata": {},
   "outputs": [],
   "source": [
    "def step():\n",
    "    global S, t\n",
    "    S = next_state(S, J, g, A, T, t)\n",
    "    t += 1\n",
    "    return dev()"
   ]
  },
  {
   "cell_type": "code",
   "execution_count": null,
   "metadata": {},
   "outputs": [],
   "source": [
    "A=1\n",
    "T=24"
   ]
  },
  {
   "cell_type": "code",
   "execution_count": null,
   "metadata": {},
   "outputs": [],
   "source": [
    "# number of neurons\n",
    "N=64\n",
    "\n",
    "# neuron states\n",
    "# S=2 *rand(N)-1;\n",
    "S=zeros(N)\n",
    "S0=S;"
   ]
  },
  {
   "cell_type": "code",
   "execution_count": null,
   "metadata": {},
   "outputs": [],
   "source": [
    "# connections\n",
    "# J=2 *rand(N,N)-1;\n",
    "# J=choice((1,-1,0,0),(N,N));  # rozrzedzona sieć"
   ]
  },
  {
   "cell_type": "code",
   "execution_count": null,
   "metadata": {},
   "outputs": [],
   "source": [
    "# J=loadtxt(\"w64_02.txt\") # 0.28624 (b.H.), 0.29 (QP), 0.291 (T=7), 0.294 (QP), 0.295 (QP-C)\n",
    "J=loadtxt(\"w64_03.txt\") # 0.24 (T=1), 0.25, 0.265, 0.27, 0.28 (QP), 0.2838->0.2839 (QP->P), 0.29, 0.3 (P), 0.302 (QP), 0.31 (C)"
   ]
  },
  {
   "cell_type": "code",
   "execution_count": null,
   "metadata": {},
   "outputs": [],
   "source": [
    "g=0.24\n",
    "t=0\n",
    "\n",
    "for i in range(1000*T):\n",
    "    step()\n",
    "\n",
    "steps=T*100\n",
    "x = zeros(steps)\n",
    "for i in range(steps):\n",
    "    x[i] = step()\n",
    "\n",
    "figsize(12,4)\n",
    "subplot(121)\n",
    "plot(x[:-T:T],x[T::T],\"k.\", alpha=0.3)\n",
    "subplot(122)\n",
    "plot(x[1::T])"
   ]
  },
  {
   "cell_type": "code",
   "execution_count": null,
   "metadata": {},
   "outputs": [],
   "source": []
  }
 ],
 "metadata": {
  "kernelspec": {
   "display_name": "Python 3",
   "language": "python",
   "name": "python3"
  },
  "language_info": {
   "codemirror_mode": {
    "name": "ipython",
    "version": 3
   },
   "file_extension": ".py",
   "mimetype": "text/x-python",
   "name": "python",
   "nbconvert_exporter": "python",
   "pygments_lexer": "ipython3",
   "version": "3.7.3"
  }
 },
 "nbformat": 4,
 "nbformat_minor": 4
}
