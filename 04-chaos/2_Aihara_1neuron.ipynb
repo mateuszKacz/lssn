{
 "cells": [
  {
   "cell_type": "markdown",
   "metadata": {},
   "source": [
    "# Associative Dynamics in a Chaotic Neural Network\n",
    "## Adachi, Aihara\n",
    "Neural Networks 10, 1, 8348 (1997)"
   ]
  },
  {
   "cell_type": "markdown",
   "metadata": {},
   "source": [
    "Model chaotycznego neuronu z czasem dyskretnym:\n",
    "$$\n",
    "x(t+1)=f[ A(t) - \\alpha \\sum \\limits_{d=0}^t k^d g(x(t-d)) - \\theta ]\n",
    "$$\n",
    "\n",
    "- $f(\\ldots)$ - funkcja aktywacji\n",
    "- $A(t)$ - zewnętrzna stymulacja\n",
    "- $g(\\ldots)$ - funkcja refrakcji\n",
    "- $k$ - parametr zaniku refrakcji\n",
    "- $\\alpha$ - parametr zaniku refrakcji\n",
    "- $\\theta$ - próg aktywacji"
   ]
  },
  {
   "cell_type": "markdown",
   "metadata": {},
   "source": [
    "W dalszych rozważaniach przyjęto:\n",
    "- funkcja aktywacji $f(y) = \\frac{1}{1+e^{-\\frac{y}{\\epsilon}}}$ (f-cja Fermiego)\n",
    "- $g(x)=x$\n",
    "- $A(t)-\\theta = a$ - stałe pobudzenie\n"
   ]
  },
  {
   "cell_type": "code",
   "execution_count": null,
   "metadata": {},
   "outputs": [],
   "source": [
    "%pylab inline"
   ]
  },
  {
   "cell_type": "code",
   "execution_count": null,
   "metadata": {},
   "outputs": [],
   "source": [
    "f = lambda x,ϵ=0.015: 1/(1+exp(-x/ϵ))\n",
    "aihara = lambda y,a=0,k=0.9,α=1:k*y-α*f(y) + a"
   ]
  },
  {
   "cell_type": "code",
   "execution_count": null,
   "metadata": {},
   "outputs": [],
   "source": [
    "def run(param, steps=100, trans=1000):\n",
    "    x=0.1\n",
    "    for i in range(trans):\n",
    "        x=aihara(x,param)\n",
    "\n",
    "    X=zeros(steps)\n",
    "    for i in range(steps):\n",
    "        x=aihara(x,param)\n",
    "        X[i]=x\n",
    "    return X"
   ]
  },
  {
   "cell_type": "code",
   "execution_count": null,
   "metadata": {},
   "outputs": [],
   "source": [
    "figure(figsize=(9, 6))\n",
    "xlabel(\"a\")\n",
    "ylabel(\"x\")\n",
    "\n",
    "for a in linspace(0.02,0.05,500):\n",
    "    x=run(a,100)\n",
    "    plot([a for i in x],x,\"k,\",alpha=0.3)"
   ]
  },
  {
   "cell_type": "code",
   "execution_count": null,
   "metadata": {},
   "outputs": [],
   "source": [
    "X=run(0.025,50)\n",
    "\n",
    "subplots(1, 2, figsize=(12, 5));\n",
    "subplot(121)\n",
    "plot(X[0:-1],X[1:],\"k.\",alpha=0.3);\n",
    "subplot(122)\n",
    "plot(X,\"k-*\");"
   ]
  },
  {
   "cell_type": "code",
   "execution_count": null,
   "metadata": {},
   "outputs": [],
   "source": []
  }
 ],
 "metadata": {
  "anaconda-cloud": {},
  "kernelspec": {
   "display_name": "Python 3",
   "language": "python",
   "name": "python3"
  },
  "language_info": {
   "codemirror_mode": {
    "name": "ipython",
    "version": 3
   },
   "file_extension": ".py",
   "mimetype": "text/x-python",
   "name": "python",
   "nbconvert_exporter": "python",
   "pygments_lexer": "ipython3",
   "version": "3.7.3"
  }
 },
 "nbformat": 4,
 "nbformat_minor": 4
}
