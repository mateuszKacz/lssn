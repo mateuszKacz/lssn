{
 "cells": [
  {
   "cell_type": "code",
   "execution_count": null,
   "metadata": {},
   "outputs": [],
   "source": [
    "%pylab inline"
   ]
  },
  {
   "cell_type": "markdown",
   "metadata": {},
   "source": [
    "# Układ dwóch neuronów McCullocha-Pittsa\n",
    "*Wang X., Complex Systems **5**, 425 (1991)*\n",
    "\n",
    "<img src=\"2neurony.jpg\" style=\"height:200px\">\n",
    "\n",
    "$$\n",
    "S_1(t+1)=f [( w_{11}S_1(t)+w_{12}S_2(t) ]\n",
    "$$\n",
    "$$\n",
    "S_2(t+1)=f [( w_{21}S_1(t)+w_{22}S_2(t) ]\n",
    "$$\n",
    "\n",
    "## Funkcja aktywacji\n",
    "$$\n",
    "f(x) = \\frac{1}{1+e^{-\\mu x}}\n",
    "$$"
   ]
  },
  {
   "cell_type": "code",
   "execution_count": null,
   "metadata": {},
   "outputs": [],
   "source": [
    "def f(x,μ):\n",
    "    return 1/(1+exp(-μ*x));"
   ]
  },
  {
   "cell_type": "code",
   "execution_count": null,
   "metadata": {},
   "outputs": [],
   "source": [
    "x=linspace(-10,10,100)\n",
    "plot(x, f(x,0.3))\n",
    "plot(x, f(x,1))\n",
    "plot(x, f(x,10));"
   ]
  },
  {
   "cell_type": "markdown",
   "metadata": {},
   "source": [
    "### Wagi połączeń"
   ]
  },
  {
   "cell_type": "code",
   "execution_count": null,
   "metadata": {},
   "outputs": [],
   "source": [
    "a=-5\n",
    "b=-25\n",
    "W=array([[a,-a],[b,-b]])\n",
    "W"
   ]
  },
  {
   "cell_type": "code",
   "execution_count": null,
   "metadata": {},
   "outputs": [],
   "source": [
    "def run(μ, steps=100, trans=1000):\n",
    "    # warunek początkowy\n",
    "    S=array([0.35,0.55])\n",
    "    \n",
    "    # stan przejściowy (transient)\n",
    "    for i in range(trans):\n",
    "        S=f(W@S,μ)\n",
    "    X=zeros((steps,2))\n",
    "    \n",
    "    # właściwy pomiar\n",
    "    for i in range(steps):\n",
    "        S=f(W@S,μ)\n",
    "        X[i]=f(W@S,μ)\n",
    "    return X"
   ]
  },
  {
   "cell_type": "code",
   "execution_count": null,
   "metadata": {},
   "outputs": [],
   "source": [
    "# 1, 2, 2.4, 2.55, 3(c), 4(c), 4.5(3), 4.6(5)\n",
    "x=run(1,50)\n",
    "figure(figsize=(10,4))\n",
    "subplot(121)\n",
    "plot(x[:,1:200],\".-\")\n",
    "title(\"$S_1(t)$\")\n",
    "subplot(122)\n",
    "title(\"$S_2(S_1)$\")\n",
    "plot(x[:,0],x[:,1],\"+\");"
   ]
  },
  {
   "cell_type": "code",
   "execution_count": null,
   "metadata": {},
   "outputs": [],
   "source": [
    "fig, axs = subplots(1, 2, figsize=(12, 5));\n",
    "\n",
    "for μ in linspace(0,6,100):\n",
    "    x=run(μ,100)\n",
    "    axs[0].plot([μ for i in x[:,0]],x[:,0],\"k,\", alpha=0.3);\n",
    "    axs[1].plot([μ for i in x[:,1]],x[:,1],\"k,\", alpha=0.3);"
   ]
  }
 ],
 "metadata": {
  "kernelspec": {
   "display_name": "Python 3",
   "language": "python",
   "name": "python3"
  },
  "language_info": {
   "codemirror_mode": {
    "name": "ipython",
    "version": 3
   },
   "file_extension": ".py",
   "mimetype": "text/x-python",
   "name": "python",
   "nbconvert_exporter": "python",
   "pygments_lexer": "ipython3",
   "version": "3.7.3"
  }
 },
 "nbformat": 4,
 "nbformat_minor": 4
}
